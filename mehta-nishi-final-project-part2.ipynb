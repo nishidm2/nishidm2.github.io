{
 "cells": [
  {
   "cell_type": "markdown",
   "metadata": {},
   "source": [
    "# Final Project , Part 2 - By Nishi Mehta"
   ]
  },
  {
   "cell_type": "markdown",
   "metadata": {},
   "source": [
    "Dataset for my final project is based on the upcoming 2020 U.S. elections and an attempt to show how Americans view the coronavirus (COVID-19) crisis. It is an amalgamation of multiple datasets to visualize a dashboard in   .\n",
    "\n",
    "1) The \"name\" of the datasets are 'How Popular is Donald Trump', 'Latest Polls', \"How Americans View The Coronavirus Crisis And Trump's Response\".\n",
    "\n",
    "2) Source obtained for the above datasets is from an online news channel column called 'FiveThirtyeight' from 'abcNEWS'.\n",
    "\n",
    "3) URL:  https://data.fivethirtyeight.com/\n",
    "\n",
    "4) The extension of the data downloaded from the above website is .csv (.zip) in nature. No need for registration or file format conversion to access the same. These files can then be used for imports and visualization!!\n",
    "\n",
    "5) The file size is around 303 KB, 1.4 MB  and 2.9 MB each.\n"
   ]
  },
  {
   "cell_type": "markdown",
   "metadata": {},
   "source": [
    "## Reading csv file"
   ]
  },
  {
   "cell_type": "code",
   "execution_count": 1,
   "metadata": {},
   "outputs": [],
   "source": [
    "import numpy as np\n",
    "import pandas as pd \n",
    "%matplotlib inline \n",
    "import matplotlib\n",
    "import matplotlib.pyplot as plt\n",
    "import datetime\n",
    "import bqplot as bq"
   ]
  },
  {
   "cell_type": "code",
   "execution_count": 23,
   "metadata": {},
   "outputs": [],
   "source": [
    "from __future__ import print_function\n",
    "from IPython.display import display\n",
    "import ipywidgets as ipy\n",
    "from ipywidgets import Layout, Dropdown, Button\n",
    "from ipywidgets import Image as ImageIpy"
   ]
  },
  {
   "cell_type": "code",
   "execution_count": 3,
   "metadata": {},
   "outputs": [],
   "source": [
    "popular_file=pd.read_csv('trump-approval-ratings/approval_topline.csv')\n",
    "poll_file=pd.read_csv('polls/president_polls.csv')\n",
    "covid_file=pd.read_csv('covid-19-polls-master/covid_concern_polls.csv')"
   ]
  },
  {
   "cell_type": "code",
   "execution_count": 4,
   "metadata": {},
   "outputs": [
    {
     "data": {
      "text/html": [
       "<div>\n",
       "<style scoped>\n",
       "    .dataframe tbody tr th:only-of-type {\n",
       "        vertical-align: middle;\n",
       "    }\n",
       "\n",
       "    .dataframe tbody tr th {\n",
       "        vertical-align: top;\n",
       "    }\n",
       "\n",
       "    .dataframe thead th {\n",
       "        text-align: right;\n",
       "    }\n",
       "</style>\n",
       "<table border=\"1\" class=\"dataframe\">\n",
       "  <thead>\n",
       "    <tr style=\"text-align: right;\">\n",
       "      <th></th>\n",
       "      <th>question_id</th>\n",
       "      <th>poll_id</th>\n",
       "      <th>cycle</th>\n",
       "      <th>state</th>\n",
       "      <th>pollster_id</th>\n",
       "      <th>pollster</th>\n",
       "      <th>sponsor_ids</th>\n",
       "      <th>sponsors</th>\n",
       "      <th>display_name</th>\n",
       "      <th>pollster_rating_id</th>\n",
       "      <th>...</th>\n",
       "      <th>ranked_choice_reallocated</th>\n",
       "      <th>created_at</th>\n",
       "      <th>notes</th>\n",
       "      <th>url</th>\n",
       "      <th>stage</th>\n",
       "      <th>race_id</th>\n",
       "      <th>answer</th>\n",
       "      <th>candidate_name</th>\n",
       "      <th>candidate_party</th>\n",
       "      <th>pct</th>\n",
       "    </tr>\n",
       "  </thead>\n",
       "  <tbody>\n",
       "    <tr>\n",
       "      <th>4140</th>\n",
       "      <td>92081</td>\n",
       "      <td>57026</td>\n",
       "      <td>2020</td>\n",
       "      <td>Ohio</td>\n",
       "      <td>383</td>\n",
       "      <td>Public Policy Polling</td>\n",
       "      <td>918</td>\n",
       "      <td>DEM</td>\n",
       "      <td>Public Policy Polling</td>\n",
       "      <td>263.0</td>\n",
       "      <td>...</td>\n",
       "      <td>False</td>\n",
       "      <td>12/6/18 14:45</td>\n",
       "      <td>NaN</td>\n",
       "      <td>https://www.cleveland.com/politics/2018/11/thi...</td>\n",
       "      <td>general</td>\n",
       "      <td>6246.0</td>\n",
       "      <td>Trump</td>\n",
       "      <td>Donald Trump</td>\n",
       "      <td>REP</td>\n",
       "      <td>46.0</td>\n",
       "    </tr>\n",
       "    <tr>\n",
       "      <th>4141</th>\n",
       "      <td>92082</td>\n",
       "      <td>57026</td>\n",
       "      <td>2020</td>\n",
       "      <td>Ohio</td>\n",
       "      <td>383</td>\n",
       "      <td>Public Policy Polling</td>\n",
       "      <td>918</td>\n",
       "      <td>DEM</td>\n",
       "      <td>Public Policy Polling</td>\n",
       "      <td>263.0</td>\n",
       "      <td>...</td>\n",
       "      <td>False</td>\n",
       "      <td>12/6/18 14:46</td>\n",
       "      <td>NaN</td>\n",
       "      <td>https://www.cleveland.com/politics/2018/11/thi...</td>\n",
       "      <td>general</td>\n",
       "      <td>6246.0</td>\n",
       "      <td>Warren</td>\n",
       "      <td>Elizabeth Warren</td>\n",
       "      <td>DEM</td>\n",
       "      <td>43.0</td>\n",
       "    </tr>\n",
       "    <tr>\n",
       "      <th>4142</th>\n",
       "      <td>92082</td>\n",
       "      <td>57026</td>\n",
       "      <td>2020</td>\n",
       "      <td>Ohio</td>\n",
       "      <td>383</td>\n",
       "      <td>Public Policy Polling</td>\n",
       "      <td>918</td>\n",
       "      <td>DEM</td>\n",
       "      <td>Public Policy Polling</td>\n",
       "      <td>263.0</td>\n",
       "      <td>...</td>\n",
       "      <td>False</td>\n",
       "      <td>12/6/18 14:46</td>\n",
       "      <td>NaN</td>\n",
       "      <td>https://www.cleveland.com/politics/2018/11/thi...</td>\n",
       "      <td>general</td>\n",
       "      <td>6246.0</td>\n",
       "      <td>Trump</td>\n",
       "      <td>Donald Trump</td>\n",
       "      <td>REP</td>\n",
       "      <td>49.0</td>\n",
       "    </tr>\n",
       "    <tr>\n",
       "      <th>4143</th>\n",
       "      <td>92078</td>\n",
       "      <td>57025</td>\n",
       "      <td>2020</td>\n",
       "      <td>NaN</td>\n",
       "      <td>399</td>\n",
       "      <td>Rasmussen Reports/Pulse Opinion Research</td>\n",
       "      <td>NaN</td>\n",
       "      <td>NaN</td>\n",
       "      <td>Rasmussen Reports/Pulse Opinion Research</td>\n",
       "      <td>277.0</td>\n",
       "      <td>...</td>\n",
       "      <td>False</td>\n",
       "      <td>12/6/18 14:40</td>\n",
       "      <td>NaN</td>\n",
       "      <td>http://www.rasmussenreports.com/public_content...</td>\n",
       "      <td>general</td>\n",
       "      <td>6210.0</td>\n",
       "      <td>Obama</td>\n",
       "      <td>Michelle Obama</td>\n",
       "      <td>DEM</td>\n",
       "      <td>50.0</td>\n",
       "    </tr>\n",
       "    <tr>\n",
       "      <th>4144</th>\n",
       "      <td>92078</td>\n",
       "      <td>57025</td>\n",
       "      <td>2020</td>\n",
       "      <td>NaN</td>\n",
       "      <td>399</td>\n",
       "      <td>Rasmussen Reports/Pulse Opinion Research</td>\n",
       "      <td>NaN</td>\n",
       "      <td>NaN</td>\n",
       "      <td>Rasmussen Reports/Pulse Opinion Research</td>\n",
       "      <td>277.0</td>\n",
       "      <td>...</td>\n",
       "      <td>False</td>\n",
       "      <td>12/6/18 14:40</td>\n",
       "      <td>NaN</td>\n",
       "      <td>http://www.rasmussenreports.com/public_content...</td>\n",
       "      <td>general</td>\n",
       "      <td>6210.0</td>\n",
       "      <td>Trump</td>\n",
       "      <td>Donald Trump</td>\n",
       "      <td>REP</td>\n",
       "      <td>43.0</td>\n",
       "    </tr>\n",
       "  </tbody>\n",
       "</table>\n",
       "<p>5 rows × 37 columns</p>\n",
       "</div>"
      ],
      "text/plain": [
       "      question_id  poll_id  cycle state  pollster_id  \\\n",
       "4140        92081    57026   2020  Ohio          383   \n",
       "4141        92082    57026   2020  Ohio          383   \n",
       "4142        92082    57026   2020  Ohio          383   \n",
       "4143        92078    57025   2020   NaN          399   \n",
       "4144        92078    57025   2020   NaN          399   \n",
       "\n",
       "                                      pollster sponsor_ids sponsors  \\\n",
       "4140                     Public Policy Polling         918      DEM   \n",
       "4141                     Public Policy Polling         918      DEM   \n",
       "4142                     Public Policy Polling         918      DEM   \n",
       "4143  Rasmussen Reports/Pulse Opinion Research         NaN      NaN   \n",
       "4144  Rasmussen Reports/Pulse Opinion Research         NaN      NaN   \n",
       "\n",
       "                                  display_name  pollster_rating_id  ...   \\\n",
       "4140                     Public Policy Polling               263.0  ...    \n",
       "4141                     Public Policy Polling               263.0  ...    \n",
       "4142                     Public Policy Polling               263.0  ...    \n",
       "4143  Rasmussen Reports/Pulse Opinion Research               277.0  ...    \n",
       "4144  Rasmussen Reports/Pulse Opinion Research               277.0  ...    \n",
       "\n",
       "     ranked_choice_reallocated     created_at  notes  \\\n",
       "4140                     False  12/6/18 14:45    NaN   \n",
       "4141                     False  12/6/18 14:46    NaN   \n",
       "4142                     False  12/6/18 14:46    NaN   \n",
       "4143                     False  12/6/18 14:40    NaN   \n",
       "4144                     False  12/6/18 14:40    NaN   \n",
       "\n",
       "                                                    url    stage race_id  \\\n",
       "4140  https://www.cleveland.com/politics/2018/11/thi...  general  6246.0   \n",
       "4141  https://www.cleveland.com/politics/2018/11/thi...  general  6246.0   \n",
       "4142  https://www.cleveland.com/politics/2018/11/thi...  general  6246.0   \n",
       "4143  http://www.rasmussenreports.com/public_content...  general  6210.0   \n",
       "4144  http://www.rasmussenreports.com/public_content...  general  6210.0   \n",
       "\n",
       "      answer    candidate_name  candidate_party   pct  \n",
       "4140   Trump      Donald Trump              REP  46.0  \n",
       "4141  Warren  Elizabeth Warren              DEM  43.0  \n",
       "4142   Trump      Donald Trump              REP  49.0  \n",
       "4143   Obama    Michelle Obama              DEM  50.0  \n",
       "4144   Trump      Donald Trump              REP  43.0  \n",
       "\n",
       "[5 rows x 37 columns]"
      ]
     },
     "execution_count": 4,
     "metadata": {},
     "output_type": "execute_result"
    }
   ],
   "source": [
    "poll_file.tail()"
   ]
  },
  {
   "cell_type": "raw",
   "metadata": {},
   "source": [
    "covid_file=covid_file.head(100)"
   ]
  },
  {
   "cell_type": "code",
   "execution_count": 5,
   "metadata": {},
   "outputs": [],
   "source": [
    "#covid_file"
   ]
  },
  {
   "cell_type": "markdown",
   "metadata": {},
   "source": [
    "Extracting a subset (only for display at the moment) of the csv file # too many records to handle and visualise"
   ]
  },
  {
   "cell_type": "code",
   "execution_count": 6,
   "metadata": {},
   "outputs": [],
   "source": [
    "poll_file=poll_file.head(1000)"
   ]
  },
  {
   "cell_type": "code",
   "execution_count": 7,
   "metadata": {},
   "outputs": [],
   "source": [
    "# converting into datetime\n",
    "covid_file['end_date']=pd.to_datetime(covid_file['end_date'],format='%Y-%m-%d')\n",
    "covid_file['start_date']=pd.to_datetime(covid_file['start_date'],format='%Y-%m-%d')"
   ]
  },
  {
   "cell_type": "code",
   "execution_count": 8,
   "metadata": {},
   "outputs": [],
   "source": [
    "poll_file['end_date']=pd.to_datetime(poll_file['end_date'],format='%m/%d/%y')\n",
    "poll_file['start_date']=pd.to_datetime(poll_file['start_date'],format='%m/%d/%y')"
   ]
  },
  {
   "cell_type": "code",
   "execution_count": 9,
   "metadata": {},
   "outputs": [
    {
     "data": {
      "text/plain": [
       "pandas._libs.tslibs.timestamps.Timestamp"
      ]
     },
     "execution_count": 9,
     "metadata": {},
     "output_type": "execute_result"
    }
   ],
   "source": [
    "type(covid_file['start_date'][0])"
   ]
  },
  {
   "cell_type": "code",
   "execution_count": 10,
   "metadata": {},
   "outputs": [
    {
     "data": {
      "image/png": "[encoded data removed]",
      "text/plain": [
       "<Figure size 1152x504 with 1 Axes>"
      ]
     },
     "metadata": {
      "needs_background": "light"
     },
     "output_type": "display_data"
    }
   ],
   "source": [
    "# creating a line plot in matplotlib\n",
    "ax = plt.figure(figsize=(16,7))\n",
    "plt.plot(covid_file.groupby('end_date').mean()['somewhat'],color='red')\n",
    "plt.plot(covid_file.groupby('end_date').mean()['not_at_all'], color='g')\n",
    "plt.plot(covid_file.groupby('end_date').mean()['very'], color='orange')\n",
    "plt.plot(covid_file.groupby('end_date').mean()['not_very'], color='blue')\n",
    "\n",
    "plt.ylabel('Estimate %')\n",
    "plt.xlabel('Party')\n",
    "plt.title('Approval and Disapproval Percentage')\n",
    "\n",
    "plt.show()"
   ]
  },
  {
   "cell_type": "markdown",
   "metadata": {},
   "source": [
    "## Line chart for America's response"
   ]
  },
  {
   "cell_type": "code",
   "execution_count": 11,
   "metadata": {},
   "outputs": [],
   "source": [
    "x=covid_file['end_date'].sort_values().unique()\n",
    "x = np.array(x, dtype='datetime64[D]')\n",
    "y=[covid_file.groupby('end_date').mean()['somewhat'], covid_file.groupby('end_date').mean()['not_at_all'], covid_file.groupby('end_date').mean()['very'],covid_file.groupby('end_date').mean()['not_very']  ] "
   ]
  },
  {
   "cell_type": "code",
   "execution_count": 12,
   "metadata": {},
   "outputs": [],
   "source": [
    "#y"
   ]
  },
  {
   "cell_type": "code",
   "execution_count": 13,
   "metadata": {},
   "outputs": [],
   "source": [
    "#x"
   ]
  },
  {
   "cell_type": "code",
   "execution_count": 14,
   "metadata": {},
   "outputs": [],
   "source": [
    "import datetime as dt # for formatting min/max in our bqplot.DateScale\n",
    "x_scl = bq.DateScale(min=dt.datetime(2020, 1, 26), max=dt.datetime(2020, 4,15))"
   ]
  },
  {
   "cell_type": "code",
   "execution_count": 16,
   "metadata": {},
   "outputs": [],
   "source": [
    "#x_sc = bqplot.LinearScale()\n",
    "y_sc = bq.LinearScale()\n",
    "x_ax = bq.Axis(scale = x_scl, label='Date')\n",
    "y_ax = bq.Axis(scale = y_sc, label='% of American Response', orientation='vertical')\n",
    "col_sc = bq.ColorScale(colors=['Red', 'Green','Orange','Blue'])"
   ]
  },
  {
   "cell_type": "code",
   "execution_count": 48,
   "metadata": {},
   "outputs": [],
   "source": [
    "#Interaction\n",
    "#panzoom = bq.interacts.PanZoom( scales={'x':[x_scl], 'y':[y_sc]})"
   ]
  },
  {
   "cell_type": "code",
   "execution_count": 19,
   "metadata": {},
   "outputs": [],
   "source": [
    "def_tt=bq.Tooltip(fields=['name', 'index', 'color'])"
   ]
  },
  {
   "cell_type": "code",
   "execution_count": 20,
   "metadata": {},
   "outputs": [],
   "source": [
    "lines = bq.Lines(x=x, y=y,scales={'x': x_scl, 'y': y_sc,'color':col_sc},tooltip=def_tt,display_legend=True,interactions={'click':'select','hover': 'tooltip'},labels=['somewhat','not_at_all','very','not_very'])"
   ]
  },
  {
   "cell_type": "code",
   "execution_count": 24,
   "metadata": {
    "scrolled": false
   },
   "outputs": [
    {
     "data": {
      "application/vnd.jupyter.widget-view+json": {
       "model_id": "dc71fc5cf5dc41f1be298d352fb37279",
       "version_major": 2,
       "version_minor": 0
      },
      "text/plain": [
       "VBox(children=(Figure(axes=[Axis(label='Date', scale=DateScale(max=datetime.datetime(2020, 4, 15, 0, 0), min=d…"
      ]
     },
     "metadata": {},
     "output_type": "display_data"
    }
   ],
   "source": [
    "fig = bq.Figure(marks=[lines], axes=[x_ax, y_ax],title='How worried Are Americans About the Economy ?')\n",
    "fig.layout.height = '700px'\n",
    "fig.layout.width = '1000px'\n",
    "#display(fig) # if figures are not showing, give this a shot\n",
    "display(ipy.VBox([fig]))"
   ]
  },
  {
   "cell_type": "markdown",
   "metadata": {},
   "source": [
    "## Dropdown"
   ]
  },
  {
   "cell_type": "code",
   "execution_count": 25,
   "metadata": {},
   "outputs": [],
   "source": [
    "drop_down = ipy.Dropdown(\n",
    "            options=['ABC News/Washington Post', 'YouGov ', 'Bendixen & Amandi International ', 'SurveyUSA', 'University of New Hampshire',\n",
    "                    'University of California, Berkeley ','Selzer & Co.','Tulchin Research','Data for Progress'],\n",
    "            value='ABC News/Washington Post',\n",
    "            disabled=False\n",
    "        )"
   ]
  },
  {
   "cell_type": "markdown",
   "metadata": {},
   "source": [
    "## Bar chart for Poll votes"
   ]
  },
  {
   "cell_type": "code",
   "execution_count": 47,
   "metadata": {
    "scrolled": false
   },
   "outputs": [
    {
     "data": {
      "application/vnd.jupyter.widget-view+json": {
       "model_id": "0acb3647c7d44b7abbc5e6a9cae6dd9d",
       "version_major": 2,
       "version_minor": 0
      },
      "text/plain": [
       "VBox(children=(Dropdown(options=('ABC News/Washington Post', 'YouGov', 'SurveyUSA', 'University of New Hampshi…"
      ]
     },
     "metadata": {},
     "output_type": "display_data"
    }
   ],
   "source": [
    "drop_down = ipy.Dropdown(\n",
    "            options=['ABC News/Washington Post', 'YouGov','SurveyUSA', 'University of New Hampshire',\n",
    "                    'University of California, Berkeley','Selzer & Co.'],\n",
    "            value='ABC News/Washington Post',\n",
    "            disabled=False)\n",
    "\n",
    "\n",
    "x_sc = bq.OrdinalScale()\n",
    "y_sc = bq.LinearScale()\n",
    "\n",
    "x_ax = bq.Axis(scale = x_sc,orientation='vertical', grid_lines = 'dashed')\n",
    "y_ax = bq.Axis(scale = y_sc, label='Vote%', orientation='horizontal')\n",
    "\n",
    "poll_y_axis=poll_file[poll_file['pollster']== drop_down.value].groupby('answer').mean()['pct'].nlargest(15)\n",
    "poll_x_axis=poll_y_axis.index.values.tolist()\n",
    "\n",
    "\n",
    "\n",
    "poll_bar_chart = bq.Bars(x=poll_x_axis,y=poll_y_axis.tolist(), scales={'x':x_sc,'y':y_sc},  \n",
    "                         orientation='horizontal',colors=['green'],\n",
    "           interactions = {'click': 'tooltip'}, selected_style={'fill': 'red'})\n",
    "\n",
    "# Changing interaction to select on click and tooltip on hover\n",
    "poll_bar_chart.interactions = {'click': 'select', 'hover': 'tooltip'}\n",
    "\n",
    "\n",
    "\n",
    "poll_fig = bq.Figure(marks=[poll_bar_chart],axes=[y_ax, x_ax], title='Who wins the most votes? poll by %s'% (drop_down.value))\n",
    "poll_fig.layout.height = '700px'\n",
    "poll_fig.layout.width = '1000px'\n",
    "\n",
    "def on_drop_change(event):\n",
    "    poll_y_axis=poll_file[poll_file['pollster']== str(event[\"new\"])].groupby('answer').mean()['pct'].nlargest(15)\n",
    "    poll_bar_chart.y = poll_y_axis.tolist()   \n",
    "    poll_fig.title = 'Who wins the most votes? poll by ' + event['new'] \n",
    "    \n",
    "drop_down.observe(on_drop_change, ['value'])\n",
    "    \n",
    "\n",
    "\n",
    "#display(fig) # if figures are not showing, give this a shot\n",
    "display(ipy.VBox([drop_down,poll_fig]))"
   ]
  },
  {
   "cell_type": "code",
   "execution_count": 27,
   "metadata": {},
   "outputs": [
    {
     "data": {
      "text/plain": [
       "answer\n",
       "Sanders      52.000000\n",
       "Bloomberg    51.000000\n",
       "Biden        50.750000\n",
       "Buttigieg    49.500000\n",
       "Warren       49.000000\n",
       "Klobuchar    48.000000\n",
       "Trump        44.785714\n",
       "Name: pct, dtype: float64"
      ]
     },
     "execution_count": 27,
     "metadata": {},
     "output_type": "execute_result"
    }
   ],
   "source": [
    "poll_file[poll_file['pollster']== drop_down.value].groupby('answer').mean()['pct'].nlargest(15)"
   ]
  },
  {
   "cell_type": "code",
   "execution_count": 28,
   "metadata": {},
   "outputs": [],
   "source": [
    "no_estimate=100.0-(popular_file['approve_estimate']+popular_file['disapprove_estimate'])"
   ]
  },
  {
   "cell_type": "code",
   "execution_count": 29,
   "metadata": {},
   "outputs": [],
   "source": [
    "popular_file['no_estimate']=no_estimate"
   ]
  },
  {
   "cell_type": "code",
   "execution_count": 30,
   "metadata": {},
   "outputs": [],
   "source": [
    "popular_file['modeldate'] = pd.to_datetime(popular_file['modeldate'])"
   ]
  },
  {
   "cell_type": "code",
   "execution_count": 31,
   "metadata": {},
   "outputs": [
    {
     "data": {
      "text/html": [
       "<div>\n",
       "<style scoped>\n",
       "    .dataframe tbody tr th:only-of-type {\n",
       "        vertical-align: middle;\n",
       "    }\n",
       "\n",
       "    .dataframe tbody tr th {\n",
       "        vertical-align: top;\n",
       "    }\n",
       "\n",
       "    .dataframe thead th {\n",
       "        text-align: right;\n",
       "    }\n",
       "</style>\n",
       "<table border=\"1\" class=\"dataframe\">\n",
       "  <thead>\n",
       "    <tr style=\"text-align: right;\">\n",
       "      <th></th>\n",
       "      <th>president</th>\n",
       "      <th>subgroup</th>\n",
       "      <th>modeldate</th>\n",
       "      <th>approve_estimate</th>\n",
       "      <th>approve_hi</th>\n",
       "      <th>approve_lo</th>\n",
       "      <th>disapprove_estimate</th>\n",
       "      <th>disapprove_hi</th>\n",
       "      <th>disapprove_lo</th>\n",
       "      <th>timestamp</th>\n",
       "      <th>no_estimate</th>\n",
       "    </tr>\n",
       "  </thead>\n",
       "  <tbody>\n",
       "    <tr>\n",
       "      <th>0</th>\n",
       "      <td>Donald Trump</td>\n",
       "      <td>Voters</td>\n",
       "      <td>2020-04-11</td>\n",
       "      <td>45.002785</td>\n",
       "      <td>48.904752</td>\n",
       "      <td>41.100818</td>\n",
       "      <td>51.426613</td>\n",
       "      <td>55.499579</td>\n",
       "      <td>47.353647</td>\n",
       "      <td>19:43:51 11 Apr 2020</td>\n",
       "      <td>3.570602</td>\n",
       "    </tr>\n",
       "    <tr>\n",
       "      <th>1</th>\n",
       "      <td>Donald Trump</td>\n",
       "      <td>Adults</td>\n",
       "      <td>2020-04-11</td>\n",
       "      <td>43.753236</td>\n",
       "      <td>47.756355</td>\n",
       "      <td>39.750117</td>\n",
       "      <td>50.112176</td>\n",
       "      <td>55.208027</td>\n",
       "      <td>45.016326</td>\n",
       "      <td>19:42:24 11 Apr 2020</td>\n",
       "      <td>6.134588</td>\n",
       "    </tr>\n",
       "    <tr>\n",
       "      <th>2</th>\n",
       "      <td>Donald Trump</td>\n",
       "      <td>All polls</td>\n",
       "      <td>2020-04-11</td>\n",
       "      <td>44.417322</td>\n",
       "      <td>48.395946</td>\n",
       "      <td>40.438698</td>\n",
       "      <td>50.706717</td>\n",
       "      <td>55.396928</td>\n",
       "      <td>46.016506</td>\n",
       "      <td>19:41:27 11 Apr 2020</td>\n",
       "      <td>4.875961</td>\n",
       "    </tr>\n",
       "    <tr>\n",
       "      <th>3</th>\n",
       "      <td>Donald Trump</td>\n",
       "      <td>Adults</td>\n",
       "      <td>2020-04-10</td>\n",
       "      <td>43.746099</td>\n",
       "      <td>47.756709</td>\n",
       "      <td>39.735489</td>\n",
       "      <td>50.114895</td>\n",
       "      <td>55.206911</td>\n",
       "      <td>45.022879</td>\n",
       "      <td>18:24:26 10 Apr 2020</td>\n",
       "      <td>6.139006</td>\n",
       "    </tr>\n",
       "    <tr>\n",
       "      <th>4</th>\n",
       "      <td>Donald Trump</td>\n",
       "      <td>Voters</td>\n",
       "      <td>2020-04-10</td>\n",
       "      <td>44.938443</td>\n",
       "      <td>48.852511</td>\n",
       "      <td>41.024376</td>\n",
       "      <td>51.521640</td>\n",
       "      <td>55.607890</td>\n",
       "      <td>47.435391</td>\n",
       "      <td>18:25:53 10 Apr 2020</td>\n",
       "      <td>3.539917</td>\n",
       "    </tr>\n",
       "  </tbody>\n",
       "</table>\n",
       "</div>"
      ],
      "text/plain": [
       "      president   subgroup  modeldate  approve_estimate  approve_hi  \\\n",
       "0  Donald Trump     Voters 2020-04-11         45.002785   48.904752   \n",
       "1  Donald Trump     Adults 2020-04-11         43.753236   47.756355   \n",
       "2  Donald Trump  All polls 2020-04-11         44.417322   48.395946   \n",
       "3  Donald Trump     Adults 2020-04-10         43.746099   47.756709   \n",
       "4  Donald Trump     Voters 2020-04-10         44.938443   48.852511   \n",
       "\n",
       "   approve_lo  disapprove_estimate  disapprove_hi  disapprove_lo  \\\n",
       "0   41.100818            51.426613      55.499579      47.353647   \n",
       "1   39.750117            50.112176      55.208027      45.016326   \n",
       "2   40.438698            50.706717      55.396928      46.016506   \n",
       "3   39.735489            50.114895      55.206911      45.022879   \n",
       "4   41.024376            51.521640      55.607890      47.435391   \n",
       "\n",
       "              timestamp  no_estimate  \n",
       "0  19:43:51 11 Apr 2020     3.570602  \n",
       "1  19:42:24 11 Apr 2020     6.134588  \n",
       "2  19:41:27 11 Apr 2020     4.875961  \n",
       "3  18:24:26 10 Apr 2020     6.139006  \n",
       "4  18:25:53 10 Apr 2020     3.539917  "
      ]
     },
     "execution_count": 31,
     "metadata": {},
     "output_type": "execute_result"
    }
   ],
   "source": [
    "popular_file.head()"
   ]
  },
  {
   "cell_type": "code",
   "execution_count": 32,
   "metadata": {},
   "outputs": [
    {
     "data": {
      "text/plain": [
       "pandas._libs.tslibs.timestamps.Timestamp"
      ]
     },
     "execution_count": 32,
     "metadata": {},
     "output_type": "execute_result"
    }
   ],
   "source": [
    "type(popular_file['modeldate'][0])"
   ]
  },
  {
   "cell_type": "markdown",
   "metadata": {},
   "source": [
    "## Date Picker"
   ]
  },
  {
   "cell_type": "code",
   "execution_count": 34,
   "metadata": {},
   "outputs": [
    {
     "data": {
      "application/vnd.jupyter.widget-view+json": {
       "model_id": "a5da2c0fafca4ebc865243e6d7d7804d",
       "version_major": 2,
       "version_minor": 0
      },
      "text/plain": [
       "DatePicker(value=datetime.date(2020, 4, 9), description='Pick a Date')"
      ]
     },
     "metadata": {},
     "output_type": "display_data"
    }
   ],
   "source": [
    "dt_val = ipy.DatePicker(\n",
    "    description='Pick a Date',\n",
    "    disabled=False,\n",
    "    value = datetime.date(2020, 4, 9)\n",
    ")\n",
    "dt_val"
   ]
  },
  {
   "cell_type": "markdown",
   "metadata": {},
   "source": [
    "## Dropdown"
   ]
  },
  {
   "cell_type": "code",
   "execution_count": 35,
   "metadata": {},
   "outputs": [],
   "source": [
    "voter_drop_down = ipy.Dropdown(\n",
    "            options=['All polls','Voters', 'Adults'],\n",
    "            value='All polls',\n",
    "            disabled=False\n",
    "        )"
   ]
  },
  {
   "cell_type": "markdown",
   "metadata": {},
   "source": [
    "## Bar chart of All Polls"
   ]
  },
  {
   "cell_type": "code",
   "execution_count": 40,
   "metadata": {
    "scrolled": false
   },
   "outputs": [
    {
     "data": {
      "application/vnd.jupyter.widget-view+json": {
       "model_id": "a28200c7a24547bda6e84526a90c38c6",
       "version_major": 2,
       "version_minor": 0
      },
      "text/plain": [
       "VBox(children=(DatePicker(value=datetime.date(2020, 4, 9), description='Pick a Date'), Dropdown(options=('All …"
      ]
     },
     "metadata": {},
     "output_type": "display_data"
    }
   ],
   "source": [
    "dt_val = ipy.DatePicker(\n",
    "    description='Pick a Date',\n",
    "    disabled=False,\n",
    "    value = datetime.date(2020, 4, 9)\n",
    ")\n",
    "\n",
    "voter_drop_down = ipy.Dropdown(\n",
    "            options=['All polls','Voters', 'Adults'],\n",
    "            value='All polls',\n",
    "            disabled=False\n",
    "        )\n",
    "\n",
    "\n",
    "x_sc = bq.OrdinalScale()\n",
    "y_sc = bq.LinearScale()\n",
    "col_sc = bq.OrdinalColorScale(domain=[0, 1], colors=['Purple', 'Gray', 'Blue'])\n",
    "\n",
    "\n",
    "x_data = ['Approve','Cant Say','Disapprove']\n",
    "y_data = popular_file.loc[(popular_file['modeldate'].dt.date == dt_val.value) & (popular_file['subgroup']==voter_drop_down.value)][['approve_estimate','no_estimate','disapprove_estimate']].values.tolist()\n",
    "\n",
    "bar_chart = bq.Bars(x=x_data, y=y_data, scales= {'x': x_sc, 'y': y_sc, 'color': col_sc},\n",
    "                  type='grouped',\n",
    "                  interactions={'click': 'select'},\n",
    "                  colors=['Purple', 'Gray', 'teal'],\n",
    "                 display_legend=True,\n",
    "                 labels=['Approve','Cant Say','Disapprove'],\n",
    "                )\n",
    "                 \n",
    "\n",
    "ax_x = bq.Axis(scale=x_sc, orientation='horizontal',label='Voting Class', grid_lines = 'none')\n",
    "ax_y = bq.Axis(scale=y_sc, orientation='vertical',label = 'Percentage of votes', grid_lines = 'none')\n",
    "\n",
    "bar_chart.interactions = {'click': 'select'}\n",
    "\n",
    "\n",
    "voters_fig = bq.Figure(marks=[bar_chart], axes=[ax_x, ax_y], legend_location='right',\n",
    "               title = 'How many Americans (%s) approve Trump on Date: %s ?'  % (str(voter_drop_down.value),str(dt_val.value)) )\n",
    "voters_fig.layout.width = '800px'\n",
    "\n",
    "\n",
    "def on_select_change(event):\n",
    "    y_data=popular_file.loc[(popular_file['modeldate'].dt.date == event[\"new\"]) & (popular_file['subgroup']==voter_drop_down.value)][['approve_estimate','no_estimate','disapprove_estimate']].values.tolist()\n",
    "    bar_chart.y = y_data   \n",
    "    voters_fig.title =  'How many Americans (%s) approve Trump on Date: %s ?'  % (str(voter_drop_down.value),str(event['new']))\n",
    "    \n",
    "dt_val.observe(on_select_change, ['value'])\n",
    "    \n",
    "\n",
    "def on_voter_drop_change(event):\n",
    "    y_data=popular_file.loc[(popular_file['modeldate'].dt.date == dt_val.value) & (popular_file['subgroup']== str(event[\"new\"])  )][['approve_estimate','no_estimate','disapprove_estimate']].values.tolist()\n",
    "    bar_chart.y = y_data   \n",
    "    voters_fig.title =  'How many Americans (%s) approve Trump on Date: %s ?'  % (str(event['new']),str(dt_val.value))\n",
    "\n",
    "\n",
    "voter_drop_down.observe(on_voter_drop_change, ['value'])\n",
    "    \n",
    "\n",
    "\n",
    "#display(fig) # if figures are not showing, give this a shot\n",
    "display(ipy.VBox([dt_val,voter_drop_down, voters_fig]))\n",
    "\n"
   ]
  },
  {
   "cell_type": "markdown",
   "metadata": {},
   "source": [
    "## Rough Work"
   ]
  },
  {
   "cell_type": "markdown",
   "metadata": {},
   "source": [
    "## Bar chart of Voters"
   ]
  },
  {
   "cell_type": "code",
   "execution_count": 42,
   "metadata": {
    "scrolled": true
   },
   "outputs": [
    {
     "data": {
      "image/png": "[encoded data removed]",
      "text/plain": [
       "<Figure size 432x288 with 1 Axes>"
      ]
     },
     "metadata": {},
     "output_type": "display_data"
    }
   ],
   "source": [
    "matplotlib.style.use('ggplot')\n",
    "\n",
    "fig, ax = plt.subplots()\n",
    "popular_file.loc[(popular_file['modeldate'].dt.date == dt_val.value) & (popular_file['subgroup']=='Voters')][['approve_estimate','no_estimate','disapprove_estimate']].plot.barh(colormap=\"GnBu\", ax=ax, alpha=0.7)\n",
    "\n",
    "plt.legend(loc=\"upper left\")\n",
    "plt.show()"
   ]
  },
  {
   "cell_type": "markdown",
   "metadata": {},
   "source": [
    "## Bar Chart of Adults"
   ]
  },
  {
   "cell_type": "code",
   "execution_count": 43,
   "metadata": {},
   "outputs": [
    {
     "data": {
      "image/png": "[encoded data removed]",
      "text/plain": [
       "<Figure size 432x288 with 1 Axes>"
      ]
     },
     "metadata": {},
     "output_type": "display_data"
    }
   ],
   "source": [
    "matplotlib.style.use('ggplot')\n",
    "\n",
    "fig, ax = plt.subplots()\n",
    "popular_file.loc[(popular_file['modeldate'].dt.date == dt_val.value) & (popular_file['subgroup']=='Adults')][['approve_estimate','no_estimate','disapprove_estimate']].plot.barh(colormap=\"GnBu\", ax=ax, alpha=0.7)\n",
    "\n",
    "plt.legend(loc=\"upper left\")\n",
    "plt.show()\n"
   ]
  },
  {
   "cell_type": "code",
   "execution_count": 46,
   "metadata": {
    "scrolled": false
   },
   "outputs": [],
   "source": [
    "# x_sc = bq.OrdinalScale()\n",
    "# y_sc = bq.LinearScale()\n",
    "# col_sc = bq.OrdinalColorScale(domain=[0, 1], colors=['Purple', 'Gray'])\n",
    "\n",
    "# busy = [1, 0, 1]\n",
    "\n",
    "# y_data = popular_file.loc[(popular_file['modeldate'].dt.date == dt_val.value) & (popular_file['subgroup']=='All polls')][['approve_estimate','no_estimate','disapprove_estimate']].values.tolist()[0]\n",
    "# print(y_data)\n",
    "# bar_chart = bq.Bars(x=[0,1,2], y=y_data, scales= {'x': x_sc, 'y': y_sc, 'color': col_sc},\n",
    "#                  orientation='horizontal', type='grouped',\n",
    "#                   interactions={'click': 'select'},\n",
    "#                  labels=['approve','no','disapprove'],\n",
    "#                  display_legend=True)\n",
    "\n",
    "# ax_x = bq.Axis(scale=x_sc, orientation='vertical')\n",
    "# ax_y = bq.Axis(scale=y_sc, orientation='horizontal',tick_format='0.2f')\n",
    "\n",
    "\n",
    "# bar_chart.color = busy\n",
    "\n",
    "# bq.Figure(marks=[bar_chart], axes=[ax_x, ax_y])"
   ]
  },
  {
   "cell_type": "markdown",
   "metadata": {},
   "source": [
    "## PROSE"
   ]
  },
  {
   "cell_type": "markdown",
   "metadata": {},
   "source": [
    "Prose (30 pts):\n",
    "\n",
    "One paragraph explaining how to use the dashboard you created, to help someone who is not an expert understand your dataset. A list of 1 or more contextual datasets you have identified, links to where they reside, and a sentence about why they might be useful in telling the final story."
   ]
  },
  {
   "cell_type": "markdown",
   "metadata": {},
   "source": [
    "Prose behind creating the dashboard:\n",
    "    My goal for this end project is to have visualize the effect of covid-19 on American polls, people and the leaders, how well are the elections running and who is being coined as most popular amongst the pool of viable candidates for the upcoming elections 2020 in the U.S. \n",
    "    Using matplotlib, pandas, bqplot and ipywidgets libraries in Python, I was able to develop multiple charts - a line, a bar (horizontal and vertical).These graphs were enabled with interactivity such as dropdown and date-picker. To understand a story, a live connection or interaction is necessary to view the changes on the fly. \n",
    "    Having 3 datasets at hand, for each scenario I plotted a line chart showing what percentage of Americans which includes some, not all, very and not very- to gauge their reception about President Trump's action toward covid-19. Another dataset relating to the previous information is how poular Mr Trump is as compared to his competitors standing for the polls. Here, I have displayed a bar chart indicating the approval and disapproval estimate  against a timeline from Jan 2020 to April 2020. This has been kept in mind and visualized for each specific cateogry of public- be it all polls,adults or voters. Selecting a particu;ar date for that subgroup depicts the estimate percentage accordingly. This leads us to analyzing how many votes did each candidate gather who are running for President electins. For this, I used the data columns at hand to vary the number of polls accrued by each standing candidate according to a pollster. \n",
    "    Manifestation of this critical information from a set of eclectic fields and predicting the numbers and values is what I acheived and aimed at by developing this live dashboard!!!"
   ]
  },
  {
   "cell_type": "markdown",
   "metadata": {},
   "source": [
    "Contextual Dataset:\n",
    "    With projects and data at fivethirtyeight being massive and rendering real-time feeds,I came up with a few more datasets related to the ongoing elections 2020. Having not explored these for my current dashboard story, I belive these would go hand in hand in telling the final story and elevating & amalgamating any missing or unread pieces for the same! \n",
    "    https://projects.fivethirtyeight.com/2020-primary-forecast/\n",
    "    https://projects.fivethirtyeight.com/coronavirus-polls/"
   ]
  },
  {
   "cell_type": "markdown",
   "metadata": {},
   "source": [
    "## INTERACTIVE DASHBOARD LINK"
   ]
  },
  {
   "cell_type": "markdown",
   "metadata": {},
   "source": [
    "To visualise the charts plotted above with the help of bqplot and ipywidgets libraries in Python, I used Voila dashboard to link the same. Using pip install and providing the path of the created jupyter notebook,the dashboard is now live!!\n",
    "Link is as follows: \n",
    "    http://localhost:8866/\n",
    "            "
   ]
  },
  {
   "cell_type": "code",
   "execution_count": null,
   "metadata": {},
   "outputs": [],
   "source": []
  }
 ],
 "metadata": {
  "kernelspec": {
   "display_name": "Python 3",
   "language": "python",
   "name": "python3"
  },
  "language_info": {
   "codemirror_mode": {
    "name": "ipython",
    "version": 3
   },
   "file_extension": ".py",
   "mimetype": "text/x-python",
   "name": "python",
   "nbconvert_exporter": "python",
   "pygments_lexer": "ipython3",
   "version": "3.6.8"
  }
 },
 "nbformat": 4,
 "nbformat_minor": 2
}
