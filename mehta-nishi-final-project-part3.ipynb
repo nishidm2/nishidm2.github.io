{
 "cells": [
  {
   "cell_type": "markdown",
   "metadata": {},
   "source": [
    "# Final Project , Part 3 - By Nishi Mehta"
   ]
  },
  {
   "cell_type": "markdown",
   "metadata": {},
   "source": [
    "#                        How Popular Is Trump Amidst Covid-19? America Responds"
   ]
  },
  {
   "cell_type": "code",
   "execution_count": null,
   "metadata": {},
   "outputs": [],
   "source": []
  },
  {
   "cell_type": "code",
   "execution_count": null,
   "metadata": {},
   "outputs": [],
   "source": []
  },
  {
   "cell_type": "code",
   "execution_count": null,
   "metadata": {},
   "outputs": [],
   "source": []
  },
  {
   "cell_type": "code",
   "execution_count": 1,
   "metadata": {},
   "outputs": [],
   "source": [
    "import numpy as np\n",
    "import pandas as pd \n",
    "%matplotlib inline \n",
    "import matplotlib\n",
    "import matplotlib.pyplot as plt\n",
    "import datetime\n",
    "import bqplot as bq"
   ]
  },
  {
   "cell_type": "code",
   "execution_count": null,
   "metadata": {},
   "outputs": [],
   "source": []
  },
  {
   "cell_type": "code",
   "execution_count": 2,
   "metadata": {},
   "outputs": [],
   "source": [
    "from __future__ import print_function\n",
    "from IPython.display import display\n",
    "import ipywidgets as ipy\n",
    "from ipywidgets import Layout, Dropdown, Button\n",
    "from ipywidgets import Image as ImageIpy"
   ]
  },
  {
   "cell_type": "code",
   "execution_count": 3,
   "metadata": {},
   "outputs": [],
   "source": [
    "popular_file=pd.read_csv('trump-approval-ratings/approval_topline.csv')\n",
    "poll_file=pd.read_csv('polls/president_polls.csv')\n",
    "covid_file=pd.read_csv('covid-19-polls-master/covid_concern_polls.csv')\n",
    "covid_file2=pd.read_csv('covid-19-polls-master/covid_approval_polls_adjusted.csv')"
   ]
  },
  {
   "cell_type": "code",
   "execution_count": 4,
   "metadata": {},
   "outputs": [],
   "source": [
    "#covid_file2.tail()"
   ]
  },
  {
   "cell_type": "code",
   "execution_count": 5,
   "metadata": {},
   "outputs": [],
   "source": [
    "#poll_file.tail()"
   ]
  },
  {
   "cell_type": "code",
   "execution_count": 6,
   "metadata": {},
   "outputs": [],
   "source": [
    "# covid_file=covid_file.head(100)"
   ]
  },
  {
   "cell_type": "raw",
   "metadata": {},
   "source": []
  },
  {
   "cell_type": "code",
   "execution_count": 7,
   "metadata": {},
   "outputs": [],
   "source": [
    "#covid_file"
   ]
  },
  {
   "cell_type": "code",
   "execution_count": 8,
   "metadata": {},
   "outputs": [],
   "source": [
    "# poll_file=poll_file.head(1000)"
   ]
  },
  {
   "cell_type": "code",
   "execution_count": 9,
   "metadata": {},
   "outputs": [],
   "source": [
    "# converting into datetime\n",
    "covid_file['end_date']=pd.to_datetime(covid_file['end_date'],format='%Y-%m-%d')\n",
    "covid_file['start_date']=pd.to_datetime(covid_file['start_date'],format='%Y-%m-%d')"
   ]
  },
  {
   "cell_type": "code",
   "execution_count": 10,
   "metadata": {},
   "outputs": [],
   "source": [
    "covid_file2['enddate']=pd.to_datetime(covid_file2['enddate'],format='%m/%d/%Y')\n",
    "covid_file2['startdate']=pd.to_datetime(covid_file2['startdate'],format='%m/%d/%Y')"
   ]
  },
  {
   "cell_type": "code",
   "execution_count": 11,
   "metadata": {},
   "outputs": [],
   "source": [
    "poll_file['end_date']=pd.to_datetime(poll_file['end_date'],format='%m/%d/%y')\n",
    "poll_file['start_date']=pd.to_datetime(poll_file['start_date'],format='%m/%d/%y')"
   ]
  },
  {
   "cell_type": "code",
   "execution_count": 12,
   "metadata": {},
   "outputs": [],
   "source": [
    "#type(covid_file['start_date'][0])"
   ]
  },
  {
   "cell_type": "code",
   "execution_count": 13,
   "metadata": {},
   "outputs": [],
   "source": [
    "# creating a line plot in matplotlib\n",
    "# ax = plt.figure(figsize=(16,7))\n",
    "# plt.plot(covid_file.groupby('end_date').mean()['somewhat'],color='red')\n",
    "# plt.plot(covid_file.groupby('end_date').mean()['not_at_all'], color='g')\n",
    "# plt.plot(covid_file.groupby('end_date').mean()['very'], color='orange')\n",
    "# plt.plot(covid_file.groupby('end_date').mean()['not_very'], color='blue')\n",
    "\n",
    "# plt.ylabel('Estimate %')\n",
    "# plt.xlabel('Party')\n",
    "# plt.title('Approval and Disapproval Percentage')\n",
    "\n",
    "# plt.show()"
   ]
  },
  {
   "cell_type": "code",
   "execution_count": 14,
   "metadata": {},
   "outputs": [],
   "source": [
    "x=covid_file['end_date'].sort_values().unique()\n",
    "x = np.array(x, dtype='datetime64[D]')\n",
    "y=[covid_file.groupby('end_date').mean()['somewhat'], covid_file.groupby('end_date').mean()['not_at_all'], covid_file.groupby('end_date').mean()['very'],covid_file.groupby('end_date').mean()['not_very']  ] "
   ]
  },
  {
   "cell_type": "code",
   "execution_count": 15,
   "metadata": {},
   "outputs": [],
   "source": [
    "#y"
   ]
  },
  {
   "cell_type": "code",
   "execution_count": 16,
   "metadata": {},
   "outputs": [],
   "source": [
    "#x"
   ]
  },
  {
   "cell_type": "code",
   "execution_count": 17,
   "metadata": {},
   "outputs": [],
   "source": [
    "import datetime as dt # for formatting min/max in our bqplot.DateScale\n",
    "x_scl = bq.DateScale(min=dt.datetime(2020, 1, 26), max=dt.datetime(2020, 4,15))"
   ]
  },
  {
   "cell_type": "code",
   "execution_count": 18,
   "metadata": {},
   "outputs": [],
   "source": [
    "#x_sc = bqplot.LinearScale()\n",
    "y_sc = bq.LinearScale()\n",
    "x_ax = bq.Axis(scale = x_scl, label='Date')\n",
    "y_ax = bq.Axis(scale = y_sc, label='% of American Response', orientation='vertical')\n",
    "col_sc = bq.ColorScale(colors=['Red', 'Green','Orange','Blue'])"
   ]
  },
  {
   "cell_type": "code",
   "execution_count": 19,
   "metadata": {},
   "outputs": [],
   "source": [
    "#Interaction\n",
    "#panzoom = bq.interacts.PanZoom( scales={'x':[x_scl], 'y':[y_sc]})"
   ]
  },
  {
   "cell_type": "code",
   "execution_count": 20,
   "metadata": {},
   "outputs": [],
   "source": [
    "def_tt=bq.Tooltip(fields=['name', 'index', 'color'])"
   ]
  },
  {
   "cell_type": "code",
   "execution_count": 21,
   "metadata": {},
   "outputs": [],
   "source": [
    "lines = bq.Lines(x=x, y=y,scales={'x': x_scl, 'y': y_sc,'color':col_sc},tooltip=def_tt,display_legend=True,interactions={'click':'select','hover': 'tooltip'},labels=['somewhat','not_at_all','very','not_very'])"
   ]
  },
  {
   "cell_type": "code",
   "execution_count": 91,
   "metadata": {
    "scrolled": false
   },
   "outputs": [],
   "source": [
    "fig = bq.Figure(marks=[lines], axes=[x_ax, y_ax],title='How worried Are Americans About the Economy ?')\n",
    "fig.layout.height = '700px'\n",
    "fig.layout.width = '1000px'\n",
    "#display(fig) # if figures are not showing, give this a shot\n",
    "# display(ipy.VBox([fig]))"
   ]
  },
  {
   "cell_type": "code",
   "execution_count": null,
   "metadata": {},
   "outputs": [],
   "source": []
  },
  {
   "cell_type": "code",
   "execution_count": 95,
   "metadata": {},
   "outputs": [],
   "source": [
    "## Dropdown"
   ]
  },
  {
   "cell_type": "code",
   "execution_count": 23,
   "metadata": {},
   "outputs": [],
   "source": [
    "drop_down = ipy.Dropdown(\n",
    "            options=['ABC News/Washington Post', 'YouGov ', 'Bendixen & Amandi International ', 'SurveyUSA', 'University of New Hampshire',\n",
    "                    'University of California, Berkeley ','Selzer & Co.','Tulchin Research','Data for Progress'],\n",
    "            value='ABC News/Washington Post',\n",
    "            disabled=False\n",
    "        )"
   ]
  },
  {
   "cell_type": "code",
   "execution_count": null,
   "metadata": {},
   "outputs": [],
   "source": [
    "## Bar chart for Poll votes"
   ]
  },
  {
   "cell_type": "code",
   "execution_count": 92,
   "metadata": {
    "scrolled": false
   },
   "outputs": [],
   "source": [
    "drop_down = ipy.Dropdown(\n",
    "            options=['ABC News/Washington Post', 'YouGov','SurveyUSA', 'University of New Hampshire',\n",
    "                    'University of California, Berkeley','Selzer & Co.'],\n",
    "            value='ABC News/Washington Post',\n",
    "            disabled=False)\n",
    "\n",
    "\n",
    "x_sc = bq.OrdinalScale()\n",
    "y_sc = bq.LinearScale()\n",
    "\n",
    "x_ax = bq.Axis(scale = x_sc,orientation='vertical', grid_lines = 'dashed')\n",
    "y_ax = bq.Axis(scale = y_sc, label='Vote%', orientation='horizontal')\n",
    "\n",
    "poll_y_axis=poll_file[poll_file['pollster']== drop_down.value].groupby('answer').mean()['pct'].nlargest(15)\n",
    "poll_x_axis=poll_y_axis.index.values.tolist()\n",
    "\n",
    "\n",
    "\n",
    "poll_bar_chart = bq.Bars(x=poll_x_axis,y=poll_y_axis.tolist(), scales={'x':x_sc,'y':y_sc},  \n",
    "                         orientation='horizontal',colors=['green'],\n",
    "           interactions = {'click': 'tooltip'}, selected_style={'fill': 'red'})\n",
    "\n",
    "# Changing interaction to select on click and tooltip on hover\n",
    "poll_bar_chart.interactions = {'click': 'select', 'hover': 'tooltip'}\n",
    "\n",
    "\n",
    "\n",
    "poll_fig = bq.Figure(marks=[poll_bar_chart],axes=[y_ax, x_ax], title='Who wins the most votes? poll by %s'% (drop_down.value))\n",
    "poll_fig.layout.height = '700px'\n",
    "poll_fig.layout.width = '1000px'\n",
    "\n",
    "def on_drop_change(event):\n",
    "    poll_y_axis=poll_file[poll_file['pollster']== str(event[\"new\"])].groupby('answer').mean()['pct'].nlargest(15)\n",
    "    poll_bar_chart.y = poll_y_axis.tolist()   \n",
    "    poll_fig.title = 'Who wins the most votes? poll by ' + event['new'] \n",
    "    \n",
    "drop_down.observe(on_drop_change, ['value'])\n",
    "    \n",
    "\n",
    "\n",
    "#display(fig) # if figures are not showing, give this a shot\n",
    "# display(ipy.VBox([drop_down,poll_fig]))"
   ]
  },
  {
   "cell_type": "code",
   "execution_count": 25,
   "metadata": {},
   "outputs": [],
   "source": [
    "# poll_file[poll_file['pollster']== drop_down.value].groupby('answer').mean()['pct'].nlargest(15)"
   ]
  },
  {
   "cell_type": "code",
   "execution_count": 26,
   "metadata": {},
   "outputs": [],
   "source": [
    "no_estimate=100.0-(popular_file['approve_estimate']+popular_file['disapprove_estimate'])"
   ]
  },
  {
   "cell_type": "code",
   "execution_count": 27,
   "metadata": {},
   "outputs": [],
   "source": [
    "popular_file['no_estimate']=no_estimate"
   ]
  },
  {
   "cell_type": "code",
   "execution_count": 28,
   "metadata": {},
   "outputs": [],
   "source": [
    "popular_file['modeldate'] = pd.to_datetime(popular_file['modeldate'])"
   ]
  },
  {
   "cell_type": "code",
   "execution_count": 29,
   "metadata": {},
   "outputs": [],
   "source": [
    "# popular_file.head()"
   ]
  },
  {
   "cell_type": "code",
   "execution_count": 30,
   "metadata": {},
   "outputs": [],
   "source": [
    "# type(popular_file['modeldate'][0])"
   ]
  },
  {
   "cell_type": "code",
   "execution_count": null,
   "metadata": {},
   "outputs": [],
   "source": [
    "## Dropdown"
   ]
  },
  {
   "cell_type": "code",
   "execution_count": 31,
   "metadata": {},
   "outputs": [],
   "source": [
    "voter_drop_down = ipy.Dropdown(\n",
    "            options=['All polls','Voters', 'Adults'],\n",
    "            value='All polls',\n",
    "            disabled=False\n",
    "        )"
   ]
  },
  {
   "cell_type": "code",
   "execution_count": null,
   "metadata": {},
   "outputs": [],
   "source": [
    "## Bar chart of All Polls"
   ]
  },
  {
   "cell_type": "code",
   "execution_count": 93,
   "metadata": {
    "scrolled": false
   },
   "outputs": [],
   "source": [
    "dt_val = ipy.DatePicker(\n",
    "    description='Pick a Date',\n",
    "    disabled=False,\n",
    "    value = datetime.date(2020, 4, 9)\n",
    ")\n",
    "\n",
    "voter_drop_down = ipy.Dropdown(\n",
    "            options=['All polls','Voters', 'Adults'],\n",
    "            value='All polls',\n",
    "            disabled=False\n",
    "        )\n",
    "\n",
    "\n",
    "x_sc = bq.OrdinalScale()\n",
    "y_sc = bq.LinearScale()\n",
    "col_sc = bq.OrdinalColorScale(domain=[0, 1], colors=['Purple', 'Gray', 'Blue'])\n",
    "\n",
    "\n",
    "x_data = ['Approve','Cant Say','Disapprove']\n",
    "y_data = popular_file.loc[(popular_file['modeldate'].dt.date == dt_val.value) & (popular_file['subgroup']==voter_drop_down.value)][['approve_estimate','no_estimate','disapprove_estimate']].values.tolist()\n",
    "\n",
    "bar_chart = bq.Bars(x=x_data, y=y_data, scales= {'x': x_sc, 'y': y_sc, 'color': col_sc},\n",
    "                  type='grouped',\n",
    "                  interactions={'click': 'select'},\n",
    "                  colors=['Purple', 'Gray', 'teal'],\n",
    "                 display_legend=True,\n",
    "                 labels=['Approve','Cant Say','Disapprove'],\n",
    "                )\n",
    "                 \n",
    "\n",
    "ax_x = bq.Axis(scale=x_sc, orientation='horizontal',label='Voting Class', grid_lines = 'none')\n",
    "ax_y = bq.Axis(scale=y_sc, orientation='vertical',label = 'Percentage of votes', grid_lines = 'none')\n",
    "\n",
    "bar_chart.interactions = {'click': 'select'}\n",
    "\n",
    "\n",
    "voters_fig = bq.Figure(marks=[bar_chart], axes=[ax_x, ax_y], legend_location='right',\n",
    "               title = 'How many Americans (%s) approve Trump on Date: %s ?'  % (str(voter_drop_down.value),str(dt_val.value)) )\n",
    "voters_fig.layout.width = '800px'\n",
    "\n",
    "\n",
    "def on_select_change(event):\n",
    "    y_data=popular_file.loc[(popular_file['modeldate'].dt.date == event[\"new\"]) & (popular_file['subgroup']==voter_drop_down.value)][['approve_estimate','no_estimate','disapprove_estimate']].values.tolist()\n",
    "    bar_chart.y = y_data   \n",
    "    voters_fig.title =  'How many Americans (%s) approve Trump on Date: %s ?'  % (str(voter_drop_down.value),str(event['new']))\n",
    "    \n",
    "dt_val.observe(on_select_change, ['value'])\n",
    "    \n",
    "\n",
    "def on_voter_drop_change(event):\n",
    "    y_data=popular_file.loc[(popular_file['modeldate'].dt.date == dt_val.value) & (popular_file['subgroup']== str(event[\"new\"])  )][['approve_estimate','no_estimate','disapprove_estimate']].values.tolist()\n",
    "    bar_chart.y = y_data   \n",
    "    voters_fig.title =  'How many Americans (%s) approve Trump on Date: %s ?'  % (str(event['new']),str(dt_val.value))\n",
    "\n",
    "\n",
    "voter_drop_down.observe(on_voter_drop_change, ['value'])\n",
    "    \n",
    "\n",
    "\n",
    "#display(fig) # if figures are not showing, give this a shot\n",
    "# display(ipy.VBox([dt_val,voter_drop_down, voters_fig]))\n",
    "\n"
   ]
  },
  {
   "cell_type": "code",
   "execution_count": null,
   "metadata": {},
   "outputs": [],
   "source": [
    "## Line Chart For Polls By Party"
   ]
  },
  {
   "cell_type": "code",
   "execution_count": 33,
   "metadata": {},
   "outputs": [],
   "source": [
    "noestimate=100.0-(covid_file2['approve']+covid_file2['disapprove'])\n",
    "#noestimate.head()"
   ]
  },
  {
   "cell_type": "code",
   "execution_count": 34,
   "metadata": {},
   "outputs": [],
   "source": [
    "covid_file2['noestimate']=noestimate"
   ]
  },
  {
   "cell_type": "code",
   "execution_count": 35,
   "metadata": {},
   "outputs": [],
   "source": [
    "datax=covid_file2['enddate'].sort_values().unique()\n",
    "datax = np.array(datax, dtype='datetime64[D]')\n"
   ]
  },
  {
   "cell_type": "code",
   "execution_count": 36,
   "metadata": {},
   "outputs": [],
   "source": [
    "#covid_file2.groupby(['party','enddate']).mean()['approve']"
   ]
  },
  {
   "cell_type": "code",
   "execution_count": 37,
   "metadata": {},
   "outputs": [],
   "source": [
    "\n",
    "datay=[covid_file2.groupby(['party','enddate']).mean()['approve'],covid_file2.groupby(['party','enddate']).mean()['noestimate'],covid_file2.groupby(['party','enddate']).mean()['disapprove']]"
   ]
  },
  {
   "cell_type": "code",
   "execution_count": 38,
   "metadata": {
    "scrolled": true
   },
   "outputs": [],
   "source": [
    "#datay[0]['all']"
   ]
  },
  {
   "cell_type": "code",
   "execution_count": null,
   "metadata": {},
   "outputs": [],
   "source": []
  },
  {
   "cell_type": "code",
   "execution_count": 113,
   "metadata": {},
   "outputs": [],
   "source": [
    "\n",
    "\n",
    "x_scale = bq.DateScale()\n",
    "y_scale = bq.LinearScale()\n",
    "col_scale = bq.OrdinalColorScale( colors=['Green', 'Gray', 'Orange'])\n",
    "\n",
    "\n",
    "\n",
    "\n",
    "line_chart = bq.Lines(x=datax, y=[datay[0]['D'], datay[0]['R'], datay[0]['I'] ], scales= {'x': x_scale, 'y': y_scale, 'color': col_scale},\n",
    "                  \n",
    "                  interactions={'click': 'select'},\n",
    "                  colors=['Green', 'Gray', 'Orange'],\n",
    "                 display_legend=True,\n",
    "                 labels=['Democrats','Republicans','Independents'],\n",
    "                )\n",
    "                 \n",
    "\n",
    "xax = bq.Axis(scale=x_scale, orientation='horizontal',label='Date', grid_lines = 'none')\n",
    "yax = bq.Axis(scale=y_scale, orientation='vertical',label = 'Percentage of votes by Party', grid_lines = 'none')\n",
    "\n",
    "line_chart.interactions = {'click': 'select'}\n",
    "\n",
    "\n",
    "party_fig = bq.Figure(marks=[line_chart], axes=[xax, yax], legend_location='top-right',\n",
    "               title = 'How many votes does each party cater to ?'  )\n",
    "party_fig.layout.width = '600px'\n",
    "party_fig.layout.padding_y='100px'\n",
    "\n",
    "\n",
    "    \n",
    "\n",
    "\n",
    "#display(fig) # if figures are not showing, give this a shot\n",
    "#display(ipy.VBox([party_fig]))\n",
    "\n"
   ]
  },
  {
   "cell_type": "code",
   "execution_count": null,
   "metadata": {},
   "outputs": [],
   "source": []
  },
  {
   "cell_type": "markdown",
   "metadata": {},
   "source": [
    "# Line chart for America's response"
   ]
  },
  {
   "cell_type": "code",
   "execution_count": 110,
   "metadata": {},
   "outputs": [
    {
     "data": {
      "application/vnd.jupyter.widget-view+json": {
       "model_id": "44a274122528424581e4de04d9caf906",
       "version_major": 2,
       "version_minor": 0
      },
      "text/plain": [
       "HBox(children=(VBox(children=(Figure(axes=[Axis(grid_lines='dashed', orientation='vertical', scale=OrdinalScal…"
      ]
     },
     "metadata": {},
     "output_type": "display_data"
    }
   ],
   "source": [
    "display(ipy.HBox([ipy.VBox([fig])]))"
   ]
  },
  {
   "cell_type": "markdown",
   "metadata": {},
   "source": [
    "As you can see in the chart above, the share of Americans who are either “somewhat” or “very” concerned about infection has risen steadily since the virus began rapidly spreading in the U.S. in March.\n",
    "\n",
    "But economic concerns, at least at the moment, seem to be worrying more Americans, as the impact of the virus on the economy has been staggering so far. In late March, millions of workers filed for unemployment each week — many times more than previous record highs — and as you can see in the next chart, the share of Americans who are “very” concerned about the economy grew dramatically in the second half of the month, as cities and states began to shut down nonessential businesses."
   ]
  },
  {
   "cell_type": "markdown",
   "metadata": {},
   "source": [
    "# Bar chart for Poll votes"
   ]
  },
  {
   "cell_type": "code",
   "execution_count": 111,
   "metadata": {},
   "outputs": [
    {
     "data": {
      "application/vnd.jupyter.widget-view+json": {
       "model_id": "42cda82d33664ffb8d94db9ec7f80442",
       "version_major": 2,
       "version_minor": 0
      },
      "text/plain": [
       "HBox(children=(VBox(children=(Dropdown(options=('ABC News/Washington Post', 'YouGov', 'SurveyUSA', 'University…"
      ]
     },
     "metadata": {},
     "output_type": "display_data"
    }
   ],
   "source": [
    "display(ipy.HBox([ipy.VBox([drop_down,poll_fig])]))"
   ]
  },
  {
   "cell_type": "markdown",
   "metadata": {},
   "source": [
    "An updating calculation of the president's approval rating, accounting for each poll's quality, recency, sample size and partisan lean."
   ]
  },
  {
   "cell_type": "markdown",
   "metadata": {},
   "source": [
    "# Bar chart of All Polls & Line Chart By Party"
   ]
  },
  {
   "cell_type": "code",
   "execution_count": null,
   "metadata": {},
   "outputs": [],
   "source": []
  },
  {
   "cell_type": "code",
   "execution_count": 114,
   "metadata": {},
   "outputs": [
    {
     "data": {
      "application/vnd.jupyter.widget-view+json": {
       "model_id": "dca6485bee354744be3741c121c071fc",
       "version_major": 2,
       "version_minor": 0
      },
      "text/plain": [
       "HBox(children=(VBox(children=(DatePicker(value=datetime.date(2020, 4, 9), description='Pick a Date'), Dropdown…"
      ]
     },
     "metadata": {},
     "output_type": "display_data"
    }
   ],
   "source": [
    "display(ipy.HBox([ipy.VBox([dt_val,voter_drop_down, voters_fig]),ipy.VBox([party_fig])]))"
   ]
  },
  {
   "cell_type": "markdown",
   "metadata": {},
   "source": [
    "Those economic concerns could play a role in the general election, too, as the way President Trump deals with the pandemic might be a factor in voters’ decisions. Below are all the polls we could find that were conducted since early February and asked Americans whether they approve of the way Trump is handling the crisis.We also broke the answers down by party, and as you can see, Republicans largely approve of Trump’s response, while Democrats do not and independents fall somewhere in between."
   ]
  },
  {
   "cell_type": "code",
   "execution_count": null,
   "metadata": {},
   "outputs": [],
   "source": []
  },
  {
   "cell_type": "code",
   "execution_count": null,
   "metadata": {},
   "outputs": [],
   "source": []
  },
  {
   "cell_type": "code",
   "execution_count": null,
   "metadata": {},
   "outputs": [],
   "source": []
  }
 ],
 "metadata": {
  "kernelspec": {
   "display_name": "Python 3",
   "language": "python",
   "name": "python3"
  },
  "language_info": {
   "codemirror_mode": {
    "name": "ipython",
    "version": 3
   },
   "file_extension": ".py",
   "mimetype": "text/x-python",
   "name": "python",
   "nbconvert_exporter": "python",
   "pygments_lexer": "ipython3",
   "version": "3.6.8"
  }
 },
 "nbformat": 4,
 "nbformat_minor": 2
}
