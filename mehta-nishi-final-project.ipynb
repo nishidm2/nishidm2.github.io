{
 "cells": [
  {
   "cell_type": "markdown",
   "metadata": {},
   "source": [
    "# Final Project - Data Visualization\n",
    "#### Nishi Mehta\n",
    "Master of Science in Information Management, University of Illinois at Urbana-Champaign"
   ]
  },
  {
   "cell_type": "markdown",
   "metadata": {},
   "source": [
    "## How Popular Is Trump Amidst Covid-19? America Responds\n",
    "----"
   ]
  },
  {
   "cell_type": "markdown",
   "metadata": {},
   "source": [
    "### Index\n",
    "\n",
    "\n",
    "<a href = \"#pt1\"> Part 1: About the Dataset (04/12, 2020)</a>\n",
    "<br>\n",
    "<a href = \"#pt2\"> Part 2: Contextual Visualization (04/19, 2020)</a>\n",
    "<br>\n",
    "<a href = \"#pt3\"> Part 3: Central Visualization (04/26, 2020)</a>"
   ]
  },
  {
   "cell_type": "markdown",
   "metadata": {},
   "source": [
    "----\n",
    "### About the Dataset<a id=\"pt1\"></a>\n",
    "\n",
    "Dataset for my final project is based on the upcoming 2020 U.S. elections and an attempt to show how Americans view the coronavirus (COVID-19) crisis. It is an amalgamation of multiple datasets to visualize a dashboard in .\n",
    "\n",
    "1) The \"name\" of the datasets are 'How Popular is Donald Trump', 'Latest Polls', \"How Americans View The Coronavirus Crisis And Trump's Response\".\n",
    "\n",
    "2) Source obtained for the above datasets is from an online news channel column called 'FiveThirtyeight' from 'abcNEWS'.\n",
    "\n",
    "3) URL: https://data.fivethirtyeight.com/\n",
    "\n",
    "4) The extension of the data downloaded from the above website is .csv (.zip) in nature. No need for registration or file format conversion to access the same. These files can then be used for imports and visualization!!\n",
    "\n",
    "5) The file size is around 303 KB, 1.4 MB and 2.9 MB each."
   ]
  },
  {
   "cell_type": "markdown",
   "metadata": {},
   "source": [
    "##### Importing Python libraries"
   ]
  },
  {
   "cell_type": "code",
   "execution_count": 2,
   "metadata": {},
   "outputs": [
    {
     "ename": "ModuleNotFoundError",
     "evalue": "No module named 'bqplot'",
     "output_type": "error",
     "traceback": [
      "\u001b[0;31m---------------------------------------------------------------------------\u001b[0m",
      "\u001b[0;31mModuleNotFoundError\u001b[0m                       Traceback (most recent call last)",
      "\u001b[0;32m<ipython-input-2-f2b5925716ae>\u001b[0m in \u001b[0;36m<module>\u001b[0;34m\u001b[0m\n\u001b[1;32m      5\u001b[0m \u001b[0;32mimport\u001b[0m \u001b[0mmatplotlib\u001b[0m\u001b[0;34m.\u001b[0m\u001b[0mpyplot\u001b[0m \u001b[0;32mas\u001b[0m \u001b[0mplt\u001b[0m\u001b[0;34m\u001b[0m\u001b[0;34m\u001b[0m\u001b[0m\n\u001b[1;32m      6\u001b[0m \u001b[0;32mimport\u001b[0m \u001b[0mdatetime\u001b[0m\u001b[0;34m\u001b[0m\u001b[0;34m\u001b[0m\u001b[0m\n\u001b[0;32m----> 7\u001b[0;31m \u001b[0;32mimport\u001b[0m \u001b[0mbqplot\u001b[0m \u001b[0;32mas\u001b[0m \u001b[0mbq\u001b[0m\u001b[0;34m\u001b[0m\u001b[0;34m\u001b[0m\u001b[0m\n\u001b[0m",
      "\u001b[0;31mModuleNotFoundError\u001b[0m: No module named 'bqplot'"
     ]
    }
   ],
   "source": [
    "import numpy as np\n",
    "import pandas as pd \n",
    "%matplotlib inline \n",
    "import matplotlib\n",
    "import matplotlib.pyplot as plt\n",
    "import datetime\n",
    "import bqplot as bq"
   ]
  },
  {
   "cell_type": "code",
   "execution_count": null,
   "metadata": {},
   "outputs": [],
   "source": [
    "from __future__ import print_function\n",
    "from IPython.display import Image\n",
    "from IPython.display import display\n",
    "import ipywidgets as ipy\n",
    "from ipywidgets import Layout, Dropdown, Button\n",
    "from ipywidgets import Image as ImageIpy"
   ]
  },
  {
   "cell_type": "markdown",
   "metadata": {},
   "source": [
    "#### Reading .csv files from different dataset files"
   ]
  },
  {
   "cell_type": "code",
   "execution_count": null,
   "metadata": {},
   "outputs": [],
   "source": [
    "popular_file=pd.read_csv('approval_topline.csv')\n",
    "poll_file=pd.read_csv('president_polls.csv')\n",
    "covid_file=pd.read_csv('covid_concern_polls.csv')\n",
    "covid_file2=pd.read_csv('covid_approval_polls_adjusted.csv')"
   ]
  },
  {
   "cell_type": "code",
   "execution_count": null,
   "metadata": {
    "scrolled": true
   },
   "outputs": [],
   "source": [
    "covid_file2.head()"
   ]
  },
  {
   "cell_type": "code",
   "execution_count": null,
   "metadata": {
    "scrolled": false
   },
   "outputs": [],
   "source": [
    "covid_file.head()"
   ]
  },
  {
   "cell_type": "code",
   "execution_count": null,
   "metadata": {},
   "outputs": [],
   "source": [
    "poll_file.head()"
   ]
  },
  {
   "cell_type": "code",
   "execution_count": null,
   "metadata": {},
   "outputs": [],
   "source": [
    "popular_file.head()"
   ]
  },
  {
   "cell_type": "markdown",
   "metadata": {},
   "source": [
    "My goal for this visualization is to mainly project the charts based on how americans are responding to Trump's response affecting the economy & infection. Based on the ongoing poll votes, who is in the lead and how much it influences the society. "
   ]
  },
  {
   "cell_type": "markdown",
   "metadata": {},
   "source": [
    "#### Converting date into datetime format for it to match with the ordinal date scale for the bqplot!"
   ]
  },
  {
   "cell_type": "code",
   "execution_count": null,
   "metadata": {},
   "outputs": [],
   "source": [
    "#Conversions as they are in the respective .csv files\n",
    "covid_file['end_date']=pd.to_datetime(covid_file['end_date'],format='%Y-%m-%d')\n",
    "covid_file['start_date']=pd.to_datetime(covid_file['start_date'],format='%Y-%m-%d')"
   ]
  },
  {
   "cell_type": "code",
   "execution_count": null,
   "metadata": {},
   "outputs": [],
   "source": [
    "covid_file2['enddate']=pd.to_datetime(covid_file2['enddate'],format='%m/%d/%Y')\n",
    "covid_file2['startdate']=pd.to_datetime(covid_file2['startdate'],format='%m/%d/%Y')"
   ]
  },
  {
   "cell_type": "code",
   "execution_count": null,
   "metadata": {},
   "outputs": [],
   "source": [
    "poll_file['end_date']=pd.to_datetime(poll_file['end_date'],format='%m/%d/%y')\n",
    "poll_file['start_date']=pd.to_datetime(poll_file['start_date'],format='%m/%d/%y')"
   ]
  },
  {
   "cell_type": "markdown",
   "metadata": {},
   "source": [
    "### As we are told to show the rough work, I first drew the line chart with the help of matplotlib."
   ]
  },
  {
   "cell_type": "code",
   "execution_count": null,
   "metadata": {},
   "outputs": [],
   "source": [
    "# creating a line plot in matplotlib\n",
    "# ax = plt.figure(figsize=(16,7))\n",
    "# plt.plot(covid_file.groupby('end_date').mean()['somewhat'],color='red')\n",
    "# plt.plot(covid_file.groupby('end_date').mean()['not_at_all'], color='g')\n",
    "# plt.plot(covid_file.groupby('end_date').mean()['very'], color='orange')\n",
    "# plt.plot(covid_file.groupby('end_date').mean()['not_very'], color='blue')\n",
    "\n",
    "# plt.ylabel('Estimate %')\n",
    "# plt.xlabel('Party')\n",
    "# plt.title('Approval and Disapproval Percentage')\n",
    "\n",
    "# plt.show()"
   ]
  },
  {
   "cell_type": "markdown",
   "metadata": {},
   "source": [
    "----\n",
    "## Contextual Visualization<a id=\"pt2\"></a>"
   ]
  },
  {
   "cell_type": "code",
   "execution_count": null,
   "metadata": {},
   "outputs": [],
   "source": [
    "img1=Image(\"ContextualViz1.png\")\n",
    "img1"
   ]
  },
  {
   "cell_type": "markdown",
   "metadata": {},
   "source": [
    "This first visualization depicts the numbers of how many Americans are worried about infection. From February to April as shown above, the share of Americans who are either “somewhat” or “very” concerned about infection has risen steadily since the virus began rapidly spreading in the U.S. in March.\n",
    "\n",
    "But economic concerns, at least at the moment, seem to be worrying more Americans, as the impact of the virus on the economy has been staggering so far. Hence, this chart directly links to the bigger picture - dedicated in the central viz ahead. "
   ]
  },
  {
   "cell_type": "markdown",
   "metadata": {},
   "source": [
    "### How to use the dashboard\n",
    "1)For who wins the most votes- a dropdown of 6 pollsters has been included to gauge the increasing competition.\n",
    "\n",
    "2)For how popular Trump is - choose dates from 23 January 2017 to 12 April 2020 for All polls, adults or voters."
   ]
  },
  {
   "cell_type": "markdown",
   "metadata": {},
   "source": [
    "----\n",
    "## Central Visualization<a id=\"pt3\"></a>"
   ]
  },
  {
   "cell_type": "markdown",
   "metadata": {},
   "source": [
    "Our main story line projects the timeline of America's resonse to Trump since the outbreak of a grave covid-19 concern in January 2020.This in turn will aid us in accruing how popular or not Trump is for the upcoming elections 2020."
   ]
  },
  {
   "cell_type": "markdown",
   "metadata": {},
   "source": [
    "### Line Chart For America's Response"
   ]
  },
  {
   "cell_type": "code",
   "execution_count": null,
   "metadata": {},
   "outputs": [],
   "source": [
    "# Assigning x and y values as date scale and categories of Americans who are affected by Trump's response\n",
    "x=covid_file['end_date'].sort_values().unique()\n",
    "x = np.array(x, dtype='datetime64[D]')\n",
    "y=[covid_file.groupby('end_date').mean()['somewhat'], \n",
    "   covid_file.groupby('end_date').mean()['not_at_all'], \n",
    "   covid_file.groupby('end_date').mean()['very'],covid_file.groupby('end_date').mean()['not_very']  ] "
   ]
  },
  {
   "cell_type": "code",
   "execution_count": null,
   "metadata": {},
   "outputs": [],
   "source": [
    "import datetime as dt # for formatting min/max in our bqplot.DateScale\n",
    "# The dates are chosen as per the data in the csv files \n",
    "x_scl = bq.DateScale(min=dt.datetime(2020, 1, 26), max=dt.datetime(2020, 4,15))"
   ]
  },
  {
   "cell_type": "code",
   "execution_count": null,
   "metadata": {},
   "outputs": [],
   "source": [
    "# Assigning a linear scale for response variable\n",
    "y_sc = bq.LinearScale()\n",
    "x_ax = bq.Axis(scale = x_scl, label='Date')\n",
    "y_ax = bq.Axis(scale = y_sc, label='% of American Response', orientation='vertical')\n",
    "\n",
    "# Defining color scale\n",
    "col_sc = bq.ColorScale(colors=['Red', 'Green','Orange','Blue'])"
   ]
  },
  {
   "cell_type": "code",
   "execution_count": null,
   "metadata": {},
   "outputs": [],
   "source": [
    "#Defining a line bqplot\n",
    "lines = bq.Lines(x=x, y=y,scales={'x': x_scl, 'y': y_sc,'color':col_sc},display_legend=True,\n",
    "                 interactions={'click':'select'},labels=['somewhat','not_at_all','very','not_very'])"
   ]
  },
  {
   "cell_type": "markdown",
   "metadata": {},
   "source": [
    "####  Plotting figure"
   ]
  },
  {
   "cell_type": "code",
   "execution_count": null,
   "metadata": {
    "scrolled": false
   },
   "outputs": [],
   "source": [
    "# Viz for line plot\n",
    "fig = bq.Figure(marks=[lines], axes=[x_ax, y_ax],title='How worried Are Americans About the Economy ?')\n",
    "fig.layout.height = '700px'\n",
    "fig.layout.width = '1000px'\n"
   ]
  },
  {
   "cell_type": "markdown",
   "metadata": {},
   "source": [
    "#### Line chart for America's response"
   ]
  },
  {
   "cell_type": "code",
   "execution_count": null,
   "metadata": {},
   "outputs": [],
   "source": [
    "display(ipy.HBox([ipy.VBox([fig])]))"
   ]
  },
  {
   "cell_type": "markdown",
   "metadata": {},
   "source": [
    "As you can see in the chart above, the share of Americans who are either “somewhat” or “very” concerned about infection has risen steadily since the virus began rapidly spreading in the U.S. in March.\n",
    "\n",
    "In late March, millions of workers filed for unemployment each week — many times more than previous record highs — and as you can see in the next chart, the share of Americans who are “very” concerned about the economy grew dramatically in the second half of the month, as cities and states began to shut down nonessential businesses."
   ]
  },
  {
   "cell_type": "markdown",
   "metadata": {},
   "source": [
    "----\n",
    "### Bar chart for Poll votes"
   ]
  },
  {
   "cell_type": "markdown",
   "metadata": {},
   "source": [
    "#### Dropdown Interaction"
   ]
  },
  {
   "cell_type": "code",
   "execution_count": null,
   "metadata": {},
   "outputs": [],
   "source": [
    "# Creating a drop down interactivity for pollsters with a default value\n",
    "drop_down = ipy.Dropdown(\n",
    "            options=['ABC News/Washington Post', 'YouGov ', 'Bendixen & Amandi International ', 'SurveyUSA',\n",
    "                     'University of New Hampshire',\n",
    "                    'University of California, Berkeley ','Selzer & Co.','Tulchin Research','Data for Progress'],\n",
    "            value='ABC News/Washington Post',\n",
    "            disabled=False\n",
    "        )"
   ]
  },
  {
   "cell_type": "markdown",
   "metadata": {},
   "source": [
    "Here, creating a bar chart in bqplot and dropdown interactivity varying with date timeline for each candidate by a pollster."
   ]
  },
  {
   "cell_type": "code",
   "execution_count": null,
   "metadata": {
    "scrolled": false
   },
   "outputs": [],
   "source": [
    "# For visualizing the percentage vote for each candidate, accumulating all code in one block with interactions\n",
    "\n",
    "drop_down = ipy.Dropdown(\n",
    "            options=['ABC News/Washington Post', 'YouGov','SurveyUSA', 'University of New Hampshire',\n",
    "                    'University of California, Berkeley','Selzer & Co.'],\n",
    "            value='ABC News/Washington Post',\n",
    "            disabled=False\n",
    ")\n",
    "\n",
    "\n",
    "x_sc = bq.OrdinalScale()\n",
    "y_sc = bq.LinearScale()\n",
    "\n",
    "x_ax = bq.Axis(scale = x_sc,orientation='vertical', grid_lines = 'dashed')\n",
    "y_ax = bq.Axis(scale = y_sc, label='Vote%', orientation='horizontal')\n",
    "\n",
    "poll_y_axis=poll_file[poll_file['pollster']== drop_down.value].groupby('answer').mean()['pct'].nlargest(15)\n",
    "poll_x_axis=poll_y_axis.index.values.tolist()\n",
    "\n",
    "\n",
    "\n",
    "poll_bar_chart = bq.Bars(x=poll_x_axis,y=poll_y_axis.tolist(), scales={'x':x_sc,'y':y_sc},  \n",
    "                         orientation='horizontal',colors=['teal'],display_legend=True,\n",
    "           interactions = {'click': 'tooltip'}, selected_style={'fill': 'gray'})\n",
    "\n",
    "\n",
    "poll_bar_chart.interactions = {'click': 'select'}\n",
    "\n",
    "\n",
    "\n",
    "poll_fig = bq.Figure(marks=[poll_bar_chart],axes=[y_ax, x_ax], legend_location='top-right',\n",
    "                     title='Who wins the most votes? poll by %s'% (drop_down.value))\n",
    "poll_fig.layout.height = '700px'\n",
    "poll_fig.layout.width = '1000px'\n",
    "\n",
    "#Defining a change event to display pollster value\n",
    "\n",
    "def on_drop_change(event):\n",
    "    poll_y_axis=poll_file[poll_file['pollster']== str(event[\"new\"])].groupby('answer').mean()['pct'].nlargest(15)\n",
    "    poll_bar_chart.y = poll_y_axis.tolist()   \n",
    "    poll_fig.title = 'Who wins the most votes? poll by ' + event['new'] \n",
    "    \n",
    "drop_down.observe(on_drop_change, ['value'])\n",
    "    \n"
   ]
  },
  {
   "cell_type": "code",
   "execution_count": null,
   "metadata": {},
   "outputs": [],
   "source": [
    "display(ipy.HBox([ipy.VBox([drop_down,poll_fig])]))"
   ]
  },
  {
   "cell_type": "markdown",
   "metadata": {},
   "source": [
    "----\n",
    "### Bar chart of All Polls & Line Chart By Party"
   ]
  },
  {
   "cell_type": "markdown",
   "metadata": {},
   "source": [
    "#### Preprocessing"
   ]
  },
  {
   "cell_type": "code",
   "execution_count": null,
   "metadata": {},
   "outputs": [],
   "source": [
    "#calculating the no estimate column with the help of approval and disapproval columns \n",
    "no_estimate=100.0-(popular_file['approve_estimate']+popular_file['disapprove_estimate'])\n",
    "popular_file['no_estimate']=no_estimate"
   ]
  },
  {
   "cell_type": "code",
   "execution_count": null,
   "metadata": {},
   "outputs": [],
   "source": [
    "# changing type of modeldate to datetime as in the .csv file\n",
    "popular_file['modeldate'] = pd.to_datetime(popular_file['modeldate'])"
   ]
  },
  {
   "cell_type": "code",
   "execution_count": null,
   "metadata": {},
   "outputs": [],
   "source": [
    "# Drop down functionality for categories of public voters\n",
    "voter_drop_down = ipy.Dropdown(\n",
    "            options=['All polls','Voters', 'Adults'],\n",
    "            value='All polls',\n",
    "            disabled=False\n",
    "        )"
   ]
  },
  {
   "cell_type": "markdown",
   "metadata": {},
   "source": [
    "Here, a date picker has been added along with a dropdown functionality to view which subgroup approves or disapproves Trump."
   ]
  },
  {
   "cell_type": "code",
   "execution_count": null,
   "metadata": {
    "scrolled": false
   },
   "outputs": [],
   "source": [
    "# For visualizing the percentage vote for a particular date given a subcategory of voters, \n",
    "# accumulating all code in one block with interactions\n",
    "\n",
    "dt_val = ipy.DatePicker(\n",
    "    description='Pick a Date',\n",
    "    disabled=False,\n",
    "    value = datetime.date(2020, 4, 9)\n",
    ")\n",
    "\n",
    "voter_drop_down = ipy.Dropdown(\n",
    "            options=['All polls','Voters', 'Adults'],\n",
    "            value='All polls',\n",
    "            disabled=False\n",
    "        )\n",
    "\n",
    "\n",
    "x_sc = bq.OrdinalScale()\n",
    "y_sc = bq.LinearScale()\n",
    "col_sc = bq.OrdinalColorScale(domain=[0, 1], colors=['Purple', 'Gray', 'Blue'])\n",
    "\n",
    "\n",
    "x_data = ['Approve','Cant Say','Disapprove']\n",
    "y_data = popular_file.loc[(popular_file['modeldate'].dt.date == dt_val.value) & \n",
    "                          (popular_file['subgroup']==voter_drop_down.value)][['approve_estimate',\n",
    "                                                                              'no_estimate',\n",
    "                                                                              'disapprove_estimate']].values.tolist()\n",
    "\n",
    "bar_chart = bq.Bars(x=x_data, y=y_data, scales= {'x': x_sc, 'y': y_sc, 'color': col_sc},\n",
    "                  type='grouped',\n",
    "                  interactions={'click': 'select'},\n",
    "                  colors=['Purple', 'Gray', 'teal'],\n",
    "                 display_legend=True,\n",
    "                 labels=['Approve','Cant Say','Disapprove'],\n",
    "                )\n",
    "                 \n",
    "\n",
    "ax_x = bq.Axis(scale=x_sc, orientation='horizontal',label='Voting Class', grid_lines = 'none')\n",
    "ax_y = bq.Axis(scale=y_sc, orientation='vertical',label = 'Percentage of votes', grid_lines = 'none')\n",
    "\n",
    "bar_chart.interactions = {'click': 'select'}\n",
    "\n",
    "\n",
    "voters_fig = bq.Figure(marks=[bar_chart], axes=[ax_x, ax_y], legend_location='top-right',\n",
    "               title = 'How many Americans (%s) approve Trump on: %s'  % (str(voter_drop_down.value),\n",
    "                                                                          str(dt_val.value)) )\n",
    "voters_fig.layout.width = '600px'\n",
    "\n",
    "\n",
    "# Defining on change events \n",
    "def on_select_change(event):\n",
    "    y_data=popular_file.loc[(popular_file['modeldate'].dt.date == event[\"new\"]) & \n",
    "                            (popular_file['subgroup']==voter_drop_down.value)][['approve_estimate',\n",
    "                                                                                'no_estimate',\n",
    "                                                                                'disapprove_estimate']].values.tolist()\n",
    "    bar_chart.y = y_data   \n",
    "    voters_fig.title =  'How many Americans (%s) approve Trump on: %s'  % (str(voter_drop_down.value),\n",
    "                                                                           str(event['new']))\n",
    "    \n",
    "dt_val.observe(on_select_change, ['value'])\n",
    "    \n",
    "\n",
    "def on_voter_drop_change(event):\n",
    "    y_data=popular_file.loc[(popular_file['modeldate'].dt.date == dt_val.value) &\n",
    "                            (popular_file['subgroup']== str(event[\"new\"])  )][['approve_estimate',\n",
    "                                                                               'no_estimate',\n",
    "                                                                               'disapprove_estimate']].values.tolist()\n",
    "    bar_chart.y = y_data   \n",
    "    voters_fig.title =  'How many Americans (%s) approve Trump on: %s'  % (str(event['new']),str(dt_val.value))\n",
    "\n",
    "\n",
    "voter_drop_down.observe(on_voter_drop_change, ['value'])\n",
    "\n"
   ]
  },
  {
   "cell_type": "code",
   "execution_count": null,
   "metadata": {},
   "outputs": [],
   "source": [
    "display(ipy.HBox([ipy.VBox([dt_val,voter_drop_down, voters_fig])]))"
   ]
  },
  {
   "cell_type": "markdown",
   "metadata": {},
   "source": [
    "---\n",
    "### Line Chart For Polls By Party"
   ]
  },
  {
   "cell_type": "markdown",
   "metadata": {},
   "source": [
    "#### Preprocessing"
   ]
  },
  {
   "cell_type": "markdown",
   "metadata": {},
   "source": [
    "Here, how each party - Repubs, Democrats or Independents view the ongoing elections has been depicted."
   ]
  },
  {
   "cell_type": "code",
   "execution_count": null,
   "metadata": {},
   "outputs": [],
   "source": [
    "noestimate=100.0-(covid_file2['approve']+covid_file2['disapprove'])\n",
    "#noestimate.head()"
   ]
  },
  {
   "cell_type": "code",
   "execution_count": null,
   "metadata": {},
   "outputs": [],
   "source": [
    "covid_file2['noestimate']=noestimate"
   ]
  },
  {
   "cell_type": "code",
   "execution_count": null,
   "metadata": {},
   "outputs": [],
   "source": [
    "# Changing data type as per csv file\n",
    "datax=covid_file2['enddate'].sort_values().unique()\n",
    "datax = np.array(datax, dtype='datetime64[D]')"
   ]
  },
  {
   "cell_type": "code",
   "execution_count": null,
   "metadata": {},
   "outputs": [],
   "source": [
    "#Assigning y variable to approval rate for a particular party\n",
    "datay=[covid_file2.groupby(['party','enddate']).mean()['approve'],\n",
    "       covid_file2.groupby(['party','enddate']).mean()['noestimate'],\n",
    "       covid_file2.groupby(['party','enddate']).mean()['disapprove']]"
   ]
  },
  {
   "cell_type": "markdown",
   "metadata": {},
   "source": [
    "#### Line Chart"
   ]
  },
  {
   "cell_type": "code",
   "execution_count": null,
   "metadata": {},
   "outputs": [],
   "source": [
    "# For visualizing the approval percentage for a particular candidate for a given party, \n",
    "# accumulating all code in one block \n",
    "\n",
    "\n",
    "x_scale = bq.DateScale(min=dt.datetime(2020, 1, 26), max=dt.datetime(2020, 4,15))\n",
    "y_scale = bq.LinearScale()\n",
    "col_scale = bq.OrdinalColorScale( colors=['Green', 'Gray', 'Orange'])\n",
    "\n",
    "\n",
    "\n",
    "\n",
    "line_chart = bq.Lines(x=datax, y=[datay[0]['D'], datay[0]['R'], datay[0]['I'] ], \n",
    "                      scales= {'x': x_scale, 'y': y_scale, 'color': col_scale},\n",
    "                      interactions={'click': 'select'},\n",
    "                      colors=['Green', 'Gray', 'Orange'],\n",
    "                      display_legend=True,\n",
    "                      labels=['Democrats','Republicans','Independents'],\n",
    "                )\n",
    "                 \n",
    "\n",
    "xax = bq.Axis(scale=x_scale, orientation='horizontal',label='Date', grid_lines = 'none')\n",
    "yax = bq.Axis(scale=y_scale, orientation='vertical',label = 'Percentage of votes by Party', grid_lines = 'none')\n",
    "\n",
    "line_chart.interactions = {'click': 'select'}\n",
    "\n",
    "\n",
    "party_fig = bq.Figure(marks=[line_chart], axes=[xax, yax], legend_location='top-right',\n",
    "               title = 'How many votes does each party cater to ?'  )\n",
    "party_fig.layout.width = '650px'\n",
    "party_fig.layout.padding_y='100px'\n",
    "\n",
    "\n",
    "\n"
   ]
  },
  {
   "cell_type": "markdown",
   "metadata": {},
   "source": [
    "An updating calculation of the president's approval rating, accounting for each poll's quality, recency, sample size and partisan lean."
   ]
  },
  {
   "cell_type": "code",
   "execution_count": null,
   "metadata": {
    "scrolled": false
   },
   "outputs": [],
   "source": [
    "display(ipy.VBox([party_fig]))"
   ]
  },
  {
   "cell_type": "markdown",
   "metadata": {},
   "source": [
    "Those economic concerns could play a role in the general election, too, as the way President Trump deals with the pandemic might be a factor in voters’ decisions. Below are all the polls we could find that were conducted since early February and asked Americans whether they approve of the way Trump is handling the crisis.We also broke the answers down by party, and as you can see, Republicans largely approve of Trump’s response, while Democrats do not and independents fall somewhere in between."
   ]
  },
  {
   "cell_type": "markdown",
   "metadata": {},
   "source": [
    " ----\n",
    "### Citations"
   ]
  },
  {
   "cell_type": "markdown",
   "metadata": {},
   "source": [
    "Source originally can be found here: \n",
    "    \n",
    "https://data.fivethirtyeight.com/\n",
    "    \n",
    "https://projects.fivethirtyeight.com/coronavirus-polls/\n",
    "    \n",
    "https://projects.fivethirtyeight.com/polls/\n",
    "    \n",
    "https://projects.fivethirtyeight.com/trump-approval-ratings/\n",
    "            "
   ]
  }
 ],
 "metadata": {
  "kernelspec": {
   "display_name": "Python 3",
   "language": "python",
   "name": "python3"
  },
  "language_info": {
   "codemirror_mode": {
    "name": "ipython",
    "version": 3
   },
   "file_extension": ".py",
   "mimetype": "text/x-python",
   "name": "python",
   "nbconvert_exporter": "python",
   "pygments_lexer": "ipython3",
   "version": "3.7.7"
  }
 },
 "nbformat": 4,
 "nbformat_minor": 2
}
